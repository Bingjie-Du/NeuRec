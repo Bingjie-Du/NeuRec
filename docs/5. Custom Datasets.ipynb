{
 "cells": [
  {
   "cell_type": "markdown",
   "metadata": {},
   "source": [
    "# 5. Custom Datasets\n",
    "Custom datasets can be passed to NeuRec to train the models with. To do this, set the **data.input.path** and **data.input.dataset** properties as follows:\n",
    "\n",
    "```\n",
    "[DEFAULT]\n",
    "data.input.path=./datasets\n",
    "data.input.dataset=custom-dataset\n",
    "data.column.format=UIRT\n",
    "```\n",
    "\n",
    "**data.input.path** states the path which contains the custom data file, and **data.input.dataset** states the name of the custom dataset file.\n",
    "\n",
    "> You may also want to set the **data.column.format** property to configure the format of the dataset.\n",
    "\n",
    "NeuRec will load the custom dataset when the setup() function is called:\n",
    "\n",
    "```python\n",
    "neurec.setup()\n",
    "```"
   ]
  }
 ],
 "metadata": {
  "kernelspec": {
   "display_name": "Python 3",
   "language": "python",
   "name": "python3"
  },
  "language_info": {
   "codemirror_mode": {
    "name": "ipython",
    "version": 3
   },
   "file_extension": ".py",
   "mimetype": "text/x-python",
   "name": "python",
   "nbconvert_exporter": "python",
   "pygments_lexer": "ipython3",
   "version": "3.6.8"
  }
 },
 "nbformat": 4,
 "nbformat_minor": 4
}
