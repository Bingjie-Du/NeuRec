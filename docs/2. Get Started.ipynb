{
 "cells": [
  {
   "cell_type": "markdown",
   "metadata": {},
   "source": [
    "# 2. Get Started\n",
    "This notebook provides a walkthrough on how to train a model using NeuRec. This walkthrough trains and evaluates the MLP model on the Ciao dataset.\n",
    "\n",
    "> Please read 1. Installation for details on how to setup NeuRec.\n",
    "\n",
    "## Structure\n",
    "The structure for the NeuRec project is as follows:\n",
    "\n",
    "* data - Modules for processing datasets;\n",
    "* dataset - Available datasets;\n",
    "* evaluation - Modules for evaluating the performance of models;\n",
    "* model - Available models;\n",
    "* util - Utility modules for assisting NeuRec;\n",
    "* neurec.py - Main script for NeuRec.\n",
    "\n",
    "## Datasets\n",
    "Several datasets are available for use with NeuRec, which can be found in the **/datasets** folder. Included are the following:\n",
    "\n",
    "* Ciao.rating\n",
    "* Ciao.trust\n",
    "* ml-1m.test.rating\n",
    "* ml-1m.train.rating\n",
    "* ml-100k.rating\n",
    "\n",
    "> For custom datasets, read the 5. Custom Datasets guide to learn how to load them into NeuRec.\n",
    "\n",
    "## Models\n",
    "NeuRec contains a large number of models which are ready to be trained. To discover which models are available, you can run the following:"
   ]
  },
  {
   "cell_type": "code",
   "execution_count": 1,
   "metadata": {},
   "outputs": [
    {
     "data": {
      "text/plain": [
       "{'mf': neurec.model.item_ranking.MF.MF,\n",
       " 'fpmc': neurec.model.seq_ranking.FPMC.FPMC,\n",
       " 'fpmcplus': neurec.model.seq_ranking.FPMCplus.FPMCplus,\n",
       " 'fism': neurec.model.item_ranking.FISM.FISM,\n",
       " 'apr': neurec.model.item_ranking.APR.APR,\n",
       " 'nais': neurec.model.item_ranking.NAIS.NAIS,\n",
       " 'mlp': neurec.model.item_ranking.MLP.MLP,\n",
       " 'hrm': neurec.model.seq_ranking.HRM.HRM,\n",
       " 'dmf': neurec.model.item_ranking.DMF.DMF,\n",
       " 'neumf': neurec.model.item_ranking.NeuMF.NeuMF,\n",
       " 'convncf': neurec.model.item_ranking.ConvNCF.ConvNCF,\n",
       " 'transrec': neurec.model.seq_ranking.TransRec.TransRec,\n",
       " 'cdae': neurec.model.item_ranking.CDAE.CDAE,\n",
       " 'cfgan': neurec.model.item_ranking.CFGAN.CFGAN,\n",
       " 'dae': neurec.model.item_ranking.DAE.DAE,\n",
       " 'npe': neurec.model.seq_ranking.NPE.NPE,\n",
       " 'multidae': neurec.model.item_ranking.MultiDAE.MultiDAE,\n",
       " 'multivae': neurec.model.item_ranking.MultiVAE.MultiVAE,\n",
       " 'irgan': neurec.model.item_ranking.IRGAN.IRGAN,\n",
       " 'jca': neurec.model.item_ranking.JCA.JCA,\n",
       " 'sbpr': neurec.model.item_ranking.SBPR.SBPR,\n",
       " 'spectralcf': neurec.model.item_ranking.SpectralCF.SpectralCF,\n",
       " 'wrmf': neurec.model.item_ranking.WRMF.WRMF,\n",
       " 'deepicf': neurec.model.item_ranking.DeepICF.DeepICF,\n",
       " 'ngcf': neurec.model.item_ranking.NGCF.NGCF}"
      ]
     },
     "execution_count": 1,
     "metadata": {},
     "output_type": "execute_result"
    }
   ],
   "source": [
    "import neurec\n",
    "\n",
    "neurec.listModels()"
   ]
  },
  {
   "cell_type": "markdown",
   "metadata": {},
   "source": [
    "## Train a Model\n",
    "To train a model, in this walkthrough the MLP model, three steps are taken. First, the settings for NeuRec are created. Second, the model specific settings are created. Finally, NeuRec is run with these settings.\n",
    "\n",
    "### Step 1: Configure NeuRec Settings\n",
    "We must create a properties files that defines the properties relating to the dataset and recommender model. To do this, first create a file called **neurec.properties** and enter the following into the file:\n",
    "\n",
    "```python\n",
    "[DEFAULT]\n",
    "data.input.path=neurec\n",
    "data.input.dataset=Ciao\n",
    "data.column.format=UIRT\n",
    "data.convert.separator=','\n",
    "data.convert.binarize.threshold=0\n",
    "data.splitter=ratio\n",
    "data.splitterratio=[0.8,0.2]|float\n",
    "rec.number.thread=20\n",
    "rec.evaluate.neg=0\n",
    "recommender=mlp\n",
    "```\n",
    "\n",
    "We have selected the MLP model by setting the **recommender** property to **mlp**.\n",
    "\n",
    "> If you would like to use a dataset provided by NeuRec, set the **data.input.path** property to **neurec**.\n",
    "\n",
    "### Step 2: Configure Model Settings\n",
    "Next, we must also configure settings specific to the MLP model in the neurec.properties file. For this walkthrough, we will use the following properties:\n",
    "\n",
    "```python\n",
    "data.input.path=dataset\n",
    "data.input.dataset=Ciao\n",
    "data.column.format=UIRT\n",
    "data.convert.separator=','\n",
    "data.convert.binarize.threshold=0\n",
    "data.splitter=ratio\n",
    "data.splitterratio=[0.8,0.2]|float\n",
    "rec.number.thread=20\n",
    "rec.evaluate.neg=0\n",
    "recommender=mlp\n",
    "\n",
    "epochs=100\n",
    "batch_size=256\n",
    "layers=[64,32,16,8]|int\n",
    "reg_mlp=0.0\n",
    "topK=10\n",
    "learning_rate=0.001\n",
    "learner=adam\n",
    "ispairwise=false\n",
    "num_neg=4\n",
    "loss_function=cross_entropy\n",
    "verbose=1\n",
    "```\n",
    "\n",
    "### Step 3: Train Model\n",
    "Finally, we let NeuRec train and evaluate the MLP model on the Ciao dataset. To do this, we run the following:"
   ]
  },
  {
   "cell_type": "code",
   "execution_count": 2,
   "metadata": {},
   "outputs": [
    {
     "name": "stdout",
     "output_type": "stream",
     "text": [
      "WARNING:tensorflow:From /home/jonathanstaniforth/Develop/NeuRec/venv/lib/python3.6/site-packages/tensorflow/python/framework/op_def_library.py:263: colocate_with (from tensorflow.python.framework.ops) is deprecated and will be removed in a future version.\n",
      "Instructions for updating:\n",
      "Colocations handled automatically by placer.\n"
     ]
    },
    {
     "name": "stderr",
     "output_type": "stream",
     "text": [
      "WARNING:tensorflow:From /home/jonathanstaniforth/Develop/NeuRec/venv/lib/python3.6/site-packages/tensorflow/python/framework/op_def_library.py:263: colocate_with (from tensorflow.python.framework.ops) is deprecated and will be removed in a future version.\n",
      "Instructions for updating:\n",
      "Colocations handled automatically by placer.\n"
     ]
    },
    {
     "name": "stdout",
     "output_type": "stream",
     "text": [
      "WARNING:tensorflow:From /home/jonathanstaniforth/Develop/NeuRec/neurec/model/item_ranking/MLP.py:78: dense (from tensorflow.python.layers.core) is deprecated and will be removed in a future version.\n",
      "Instructions for updating:\n",
      "Use keras.layers.dense instead.\n"
     ]
    },
    {
     "name": "stderr",
     "output_type": "stream",
     "text": [
      "WARNING:tensorflow:From /home/jonathanstaniforth/Develop/NeuRec/neurec/model/item_ranking/MLP.py:78: dense (from tensorflow.python.layers.core) is deprecated and will be removed in a future version.\n",
      "Instructions for updating:\n",
      "Use keras.layers.dense instead.\n"
     ]
    },
    {
     "name": "stdout",
     "output_type": "stream",
     "text": [
      "WARNING:tensorflow:From /home/jonathanstaniforth/Develop/NeuRec/venv/lib/python3.6/site-packages/tensorflow/python/ops/losses/losses_impl.py:209: to_float (from tensorflow.python.ops.math_ops) is deprecated and will be removed in a future version.\n",
      "Instructions for updating:\n",
      "Use tf.cast instead.\n"
     ]
    },
    {
     "name": "stderr",
     "output_type": "stream",
     "text": [
      "WARNING:tensorflow:From /home/jonathanstaniforth/Develop/NeuRec/venv/lib/python3.6/site-packages/tensorflow/python/ops/losses/losses_impl.py:209: to_float (from tensorflow.python.ops.math_ops) is deprecated and will be removed in a future version.\n",
      "Instructions for updating:\n",
      "Use tf.cast instead.\n"
     ]
    },
    {
     "name": "stdout",
     "output_type": "stream",
     "text": [
      "WARNING:tensorflow:From /home/jonathanstaniforth/Develop/NeuRec/venv/lib/python3.6/site-packages/tensorflow/python/ops/math_ops.py:3066: to_int32 (from tensorflow.python.ops.math_ops) is deprecated and will be removed in a future version.\n",
      "Instructions for updating:\n",
      "Use tf.cast instead.\n"
     ]
    },
    {
     "name": "stderr",
     "output_type": "stream",
     "text": [
      "WARNING:tensorflow:From /home/jonathanstaniforth/Develop/NeuRec/venv/lib/python3.6/site-packages/tensorflow/python/ops/math_ops.py:3066: to_int32 (from tensorflow.python.ops.math_ops) is deprecated and will be removed in a future version.\n",
      "Instructions for updating:\n",
      "Use tf.cast instead.\n"
     ]
    },
    {
     "name": "stdout",
     "output_type": "stream",
     "text": [
      "[iter 1 : loss : 0.002706, time: 5.147123]\n",
      "[iter 2 : loss : 0.002706, time: 4.838994]\n",
      "[iter 3 : loss : 0.002706, time: 5.095328]\n",
      "[iter 4 : loss : 0.002706, time: 6.455770]\n",
      "[iter 5 : loss : 0.002706, time: 5.100919]\n",
      "[iter 6 : loss : 0.002706, time: 4.745517]\n",
      "[iter 7 : loss : 0.002706, time: 4.778819]\n",
      "[iter 8 : loss : 0.002706, time: 4.740732]\n",
      "[iter 9 : loss : 0.002706, time: 5.198807]\n",
      "[iter 10 : loss : 0.002706, time: 5.377482]\n",
      "[iter 11 : loss : 0.002706, time: 4.725555]\n",
      "[iter 12 : loss : 0.002706, time: 5.155557]\n",
      "[iter 13 : loss : 0.002706, time: 5.038135]\n",
      "[iter 14 : loss : 0.002706, time: 5.018766]\n",
      "[iter 15 : loss : 0.002706, time: 4.994535]\n",
      "[iter 16 : loss : 0.002706, time: 4.715307]\n",
      "[iter 17 : loss : 0.002706, time: 5.427384]\n",
      "[iter 18 : loss : 0.002706, time: 5.262983]\n",
      "[iter 19 : loss : 0.002706, time: 5.152787]\n",
      "[iter 20 : loss : 0.002706, time: 5.229349]\n",
      "[iter 21 : loss : 0.002706, time: 5.067414]\n",
      "[iter 22 : loss : 0.002706, time: 5.084404]\n",
      "[iter 23 : loss : 0.002706, time: 4.855484]\n",
      "[iter 24 : loss : 0.002706, time: 5.079379]\n",
      "[iter 25 : loss : 0.002706, time: 5.329938]\n",
      "[iter 26 : loss : 0.002706, time: 4.788079]\n",
      "[iter 27 : loss : 0.002706, time: 4.710497]\n",
      "[iter 28 : loss : 0.002706, time: 4.686256]\n",
      "[iter 29 : loss : 0.002706, time: 5.175462]\n",
      "[iter 30 : loss : 0.002706, time: 4.725698]\n",
      "[iter 31 : loss : 0.002706, time: 4.751125]\n",
      "[iter 32 : loss : 0.002706, time: 4.900930]\n",
      "[iter 33 : loss : 0.002706, time: 4.745316]\n",
      "[iter 34 : loss : 0.002706, time: 4.762204]\n",
      "[iter 35 : loss : 0.002706, time: 4.721828]\n",
      "[iter 36 : loss : 0.002706, time: 4.824344]\n",
      "[iter 37 : loss : 0.002706, time: 4.978152]\n",
      "[iter 38 : loss : 0.002706, time: 5.266238]\n",
      "[iter 39 : loss : 0.002706, time: 4.692441]\n",
      "[iter 40 : loss : 0.002706, time: 4.679266]\n",
      "[iter 41 : loss : 0.002706, time: 4.678591]\n",
      "[iter 42 : loss : 0.002706, time: 4.862979]\n",
      "[iter 43 : loss : 0.002706, time: 4.879873]\n",
      "[iter 44 : loss : 0.002706, time: 4.741315]\n",
      "[iter 45 : loss : 0.002706, time: 4.781487]\n",
      "[iter 46 : loss : 0.002706, time: 4.982215]\n",
      "[iter 47 : loss : 0.002706, time: 4.947434]\n",
      "[iter 48 : loss : 0.002706, time: 4.878005]\n",
      "[iter 49 : loss : 0.002706, time: 4.665982]\n",
      "[iter 50 : loss : 0.002706, time: 4.678996]\n",
      "[iter 51 : loss : 0.002706, time: 5.175394]\n",
      "[iter 52 : loss : 0.002706, time: 4.743855]\n",
      "[iter 53 : loss : 0.002706, time: 4.681988]\n",
      "[iter 54 : loss : 0.002706, time: 4.826069]\n",
      "[iter 55 : loss : 0.002706, time: 4.718635]\n",
      "[iter 56 : loss : 0.002706, time: 5.354506]\n",
      "[iter 57 : loss : 0.002706, time: 4.727311]\n",
      "[iter 58 : loss : 0.002706, time: 4.735647]\n",
      "[iter 59 : loss : 0.002706, time: 4.742893]\n",
      "[iter 60 : loss : 0.002706, time: 4.732588]\n",
      "[iter 61 : loss : 0.002706, time: 4.738410]\n",
      "[iter 62 : loss : 0.002706, time: 4.735003]\n",
      "[iter 63 : loss : 0.002706, time: 4.835690]\n",
      "[iter 64 : loss : 0.002706, time: 4.898086]\n",
      "[iter 65 : loss : 0.002706, time: 4.735903]\n",
      "[iter 66 : loss : 0.002706, time: 4.731942]\n",
      "[iter 67 : loss : 0.002706, time: 4.744227]\n",
      "[iter 68 : loss : 0.002706, time: 4.796815]\n",
      "[iter 69 : loss : 0.002706, time: 4.683161]\n",
      "[iter 70 : loss : 0.002706, time: 4.690835]\n",
      "[iter 71 : loss : 0.002706, time: 4.731862]\n",
      "[iter 72 : loss : 0.002706, time: 4.682351]\n",
      "[iter 73 : loss : 0.002706, time: 4.690300]\n",
      "[iter 74 : loss : 0.002706, time: 4.676327]\n",
      "[iter 75 : loss : 0.002706, time: 4.658880]\n",
      "[iter 76 : loss : 0.002706, time: 4.680152]\n",
      "[iter 77 : loss : 0.002706, time: 4.705996]\n",
      "[iter 78 : loss : 0.002706, time: 4.675456]\n",
      "[iter 79 : loss : 0.002706, time: 4.984475]\n",
      "[iter 80 : loss : 0.002706, time: 4.736590]\n",
      "[iter 81 : loss : 0.002706, time: 4.700667]\n",
      "[iter 82 : loss : 0.002706, time: 4.697659]\n",
      "[iter 83 : loss : 0.002706, time: 4.706695]\n",
      "[iter 84 : loss : 0.002706, time: 4.737931]\n",
      "[iter 85 : loss : 0.002706, time: 4.879559]\n",
      "[iter 86 : loss : 0.002706, time: 4.718236]\n",
      "[iter 87 : loss : 0.002706, time: 4.712224]\n",
      "[iter 88 : loss : 0.002706, time: 4.773511]\n",
      "[iter 89 : loss : 0.002706, time: 4.698244]\n",
      "[iter 90 : loss : 0.002706, time: 4.710751]\n",
      "[iter 91 : loss : 0.002706, time: 4.712543]\n",
      "[iter 92 : loss : 0.002706, time: 4.712627]\n",
      "[iter 93 : loss : 0.002706, time: 4.714718]\n",
      "[iter 94 : loss : 0.002706, time: 4.709546]\n",
      "[iter 95 : loss : 0.002706, time: 5.123244]\n",
      "[iter 96 : loss : 0.002706, time: 4.708913]\n",
      "[iter 97 : loss : 0.002706, time: 4.714502]\n",
      "[iter 98 : loss : 0.002706, time: 4.704711]\n",
      "[iter 99 : loss : 0.002706, time: 4.716758]\n",
      "[iter 100 : loss : 0.002706, time: 4.718563]\n"
     ]
    }
   ],
   "source": [
    "import neurec\n",
    "\n",
    "# Perform necessary setup, such as \n",
    "# the dataset and seed values\n",
    "neurec.setup('neurec.properties')\n",
    "\n",
    "# Run NeuRec with the configuration settings.\n",
    "neurec.run()"
   ]
  }
 ],
 "metadata": {
  "kernelspec": {
   "display_name": "Python 3",
   "language": "python",
   "name": "python3"
  },
  "language_info": {
   "codemirror_mode": {
    "name": "ipython",
    "version": 3
   },
   "file_extension": ".py",
   "mimetype": "text/x-python",
   "name": "python",
   "nbconvert_exporter": "python",
   "pygments_lexer": "ipython3",
   "version": "3.6.8"
  }
 },
 "nbformat": 4,
 "nbformat_minor": 4
}
